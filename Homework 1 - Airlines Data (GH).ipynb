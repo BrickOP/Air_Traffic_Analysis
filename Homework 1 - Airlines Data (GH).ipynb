{
 "cells": [
  {
   "cell_type": "markdown",
   "metadata": {
    "application/vnd.databricks.v1+cell": {
     "cellMetadata": {
      "byteLimit": 2048000,
      "rowLimit": 10000
     },
     "inputWidgets": {},
     "nuid": "2bc85da6-55d3-488d-a739-1532d04e0987",
     "showTitle": false,
     "tableResultSettingsMap": {},
     "title": ""
    }
   },
   "source": [
    "> # **NUZAIF NAVEED - 21418890**"
   ]
  },
  {
   "cell_type": "markdown",
   "metadata": {
    "application/vnd.databricks.v1+cell": {
     "cellMetadata": {
      "byteLimit": 2048000,
      "rowLimit": 10000
     },
     "inputWidgets": {},
     "nuid": "0607f324-297f-434f-9626-b45a9ab6f023",
     "showTitle": false,
     "tableResultSettingsMap": {},
     "title": ""
    }
   },
   "source": [
    "# Reading the Dataset\n",
    "- Step 1: This will be able to read the file in a Spark Dataframe.\n",
    "- Step 2: This will create a Temporary SQL View, which allows us to run SQL queries directly on the dataframe as if it were a table.\n",
    "- Step 3: This will query the data in a new Spark DataFrame, and rename the headers in order to be used in the code more efficiently.\n",
    "- Step 4: Displaying the data."
   ]
  },
  {
   "cell_type": "code",
   "execution_count": 0,
   "metadata": {
    "application/vnd.databricks.v1+cell": {
     "cellMetadata": {
      "byteLimit": 2048000,
      "rowLimit": 10000
     },
     "inputWidgets": {},
     "nuid": "8512f4e3-ab0c-4e5d-b6ba-43a988b59c85",
     "showTitle": false,
     "tableResultSettingsMap": {},
     "title": ""
    }
   },
   "outputs": [
    {
     "output_type": "stream",
     "name": "stdout",
     "output_type": "stream",
     "text": [
      "\nDataFrame View\n"
     ]
    },
    {
     "output_type": "display_data",
     "data": {
      "text/html": [
       "<style scoped>\n",
       "  .table-result-container {\n",
       "    max-height: 300px;\n",
       "    overflow: auto;\n",
       "  }\n",
       "  table, th, td {\n",
       "    border: 1px solid black;\n",
       "    border-collapse: collapse;\n",
       "  }\n",
       "  th, td {\n",
       "    padding: 5px;\n",
       "  }\n",
       "  th {\n",
       "    text-align: left;\n",
       "  }\n",
       "</style><div class='table-result-container'><table class='table-result'><thead style='background-color: white'><tr><th>ActivityPeriod</th><th>ActivityPeriodStartDate</th><th>OperatingAirline</th><th>OperatingAirlineIATACode</th><th>PublishedAirline</th><th>PublishedAirlineIATACode</th><th>GEOSummary</th><th>GEORegion</th><th>ActivityTypeCode</th><th>PriceCategoryCode</th><th>Terminal</th><th>BoardingArea</th><th>PassengerCount</th></tr></thead><tbody><tr><td>199907</td><td>1999-07-01</td><td>ATA Airlines</td><td>TZ</td><td>ATA Airlines</td><td>TZ</td><td>Domestic</td><td>US</td><td>Deplaned</td><td>Low Fare</td><td>Terminal 1</td><td>B</td><td>31432</td></tr><tr><td>199907</td><td>1999-07-01</td><td>ATA Airlines</td><td>TZ</td><td>ATA Airlines</td><td>TZ</td><td>Domestic</td><td>US</td><td>Enplaned</td><td>Low Fare</td><td>Terminal 1</td><td>B</td><td>31353</td></tr><tr><td>199907</td><td>1999-07-01</td><td>ATA Airlines</td><td>TZ</td><td>ATA Airlines</td><td>TZ</td><td>Domestic</td><td>US</td><td>Thru / Transit</td><td>Low Fare</td><td>Terminal 1</td><td>B</td><td>2518</td></tr><tr><td>199907</td><td>1999-07-01</td><td>Aeroflot Russian International Airlines</td><td>null</td><td>Aeroflot Russian International Airlines</td><td>null</td><td>International</td><td>Europe</td><td>Deplaned</td><td>Other</td><td>Terminal 2</td><td>D</td><td>1324</td></tr><tr><td>199907</td><td>1999-07-01</td><td>Aeroflot Russian International Airlines</td><td>null</td><td>Aeroflot Russian International Airlines</td><td>null</td><td>International</td><td>Europe</td><td>Enplaned</td><td>Other</td><td>Terminal 2</td><td>D</td><td>1198</td></tr><tr><td>199907</td><td>1999-07-01</td><td>Air Canada</td><td>AC</td><td>Air Canada</td><td>AC</td><td>International</td><td>Canada</td><td>Deplaned</td><td>Other</td><td>Terminal 1</td><td>B</td><td>24124</td></tr><tr><td>199907</td><td>1999-07-01</td><td>Air Canada</td><td>AC</td><td>Air Canada</td><td>AC</td><td>International</td><td>Canada</td><td>Enplaned</td><td>Other</td><td>Terminal 1</td><td>B</td><td>23613</td></tr><tr><td>199907</td><td>1999-07-01</td><td>Air China</td><td>CA</td><td>Air China</td><td>CA</td><td>International</td><td>Asia</td><td>Deplaned</td><td>Other</td><td>Terminal 2</td><td>D</td><td>4983</td></tr><tr><td>199907</td><td>1999-07-01</td><td>Air China</td><td>CA</td><td>Air China</td><td>CA</td><td>International</td><td>Asia</td><td>Enplaned</td><td>Other</td><td>Terminal 2</td><td>D</td><td>4604</td></tr><tr><td>199907</td><td>1999-07-01</td><td>Air Europe</td><td>PE</td><td>Air Europe</td><td>PE</td><td>International</td><td>Europe</td><td>Deplaned</td><td>Other</td><td>Terminal 2</td><td>D</td><td>205</td></tr></tbody></table></div>"
      ]
     },
     "metadata": {
      "application/vnd.databricks.v1+output": {
       "addedWidgets": {},
       "aggData": [],
       "aggError": "",
       "aggOverflow": false,
       "aggSchema": [],
       "aggSeriesLimitReached": false,
       "aggType": "",
       "arguments": {},
       "columnCustomDisplayInfos": {},
       "data": [
        [
         199907,
         "1999-07-01",
         "ATA Airlines",
         "TZ",
         "ATA Airlines",
         "TZ",
         "Domestic",
         "US",
         "Deplaned",
         "Low Fare",
         "Terminal 1",
         "B",
         31432
        ],
        [
         199907,
         "1999-07-01",
         "ATA Airlines",
         "TZ",
         "ATA Airlines",
         "TZ",
         "Domestic",
         "US",
         "Enplaned",
         "Low Fare",
         "Terminal 1",
         "B",
         31353
        ],
        [
         199907,
         "1999-07-01",
         "ATA Airlines",
         "TZ",
         "ATA Airlines",
         "TZ",
         "Domestic",
         "US",
         "Thru / Transit",
         "Low Fare",
         "Terminal 1",
         "B",
         2518
        ],
        [
         199907,
         "1999-07-01",
         "Aeroflot Russian International Airlines",
         null,
         "Aeroflot Russian International Airlines",
         null,
         "International",
         "Europe",
         "Deplaned",
         "Other",
         "Terminal 2",
         "D",
         1324
        ],
        [
         199907,
         "1999-07-01",
         "Aeroflot Russian International Airlines",
         null,
         "Aeroflot Russian International Airlines",
         null,
         "International",
         "Europe",
         "Enplaned",
         "Other",
         "Terminal 2",
         "D",
         1198
        ],
        [
         199907,
         "1999-07-01",
         "Air Canada",
         "AC",
         "Air Canada",
         "AC",
         "International",
         "Canada",
         "Deplaned",
         "Other",
         "Terminal 1",
         "B",
         24124
        ],
        [
         199907,
         "1999-07-01",
         "Air Canada",
         "AC",
         "Air Canada",
         "AC",
         "International",
         "Canada",
         "Enplaned",
         "Other",
         "Terminal 1",
         "B",
         23613
        ],
        [
         199907,
         "1999-07-01",
         "Air China",
         "CA",
         "Air China",
         "CA",
         "International",
         "Asia",
         "Deplaned",
         "Other",
         "Terminal 2",
         "D",
         4983
        ],
        [
         199907,
         "1999-07-01",
         "Air China",
         "CA",
         "Air China",
         "CA",
         "International",
         "Asia",
         "Enplaned",
         "Other",
         "Terminal 2",
         "D",
         4604
        ],
        [
         199907,
         "1999-07-01",
         "Air Europe",
         "PE",
         "Air Europe",
         "PE",
         "International",
         "Europe",
         "Deplaned",
         "Other",
         "Terminal 2",
         "D",
         205
        ]
       ],
       "datasetInfos": [],
       "dbfsResultPath": null,
       "isJsonSchema": true,
       "metadata": {},
       "overflow": false,
       "plotOptions": {
        "customPlotOptions": {},
        "displayType": "table",
        "pivotAggregation": null,
        "pivotColumns": null,
        "xColumns": null,
        "yColumns": null
       },
       "removedWidgets": [],
       "schema": [
        {
         "metadata": "{}",
         "name": "ActivityPeriod",
         "type": "\"integer\""
        },
        {
         "metadata": "{\"__detected_date_formats\":\"yyyy-M-d\"}",
         "name": "ActivityPeriodStartDate",
         "type": "\"date\""
        },
        {
         "metadata": "{}",
         "name": "OperatingAirline",
         "type": "\"string\""
        },
        {
         "metadata": "{}",
         "name": "OperatingAirlineIATACode",
         "type": "\"string\""
        },
        {
         "metadata": "{}",
         "name": "PublishedAirline",
         "type": "\"string\""
        },
        {
         "metadata": "{}",
         "name": "PublishedAirlineIATACode",
         "type": "\"string\""
        },
        {
         "metadata": "{}",
         "name": "GEOSummary",
         "type": "\"string\""
        },
        {
         "metadata": "{}",
         "name": "GEORegion",
         "type": "\"string\""
        },
        {
         "metadata": "{}",
         "name": "ActivityTypeCode",
         "type": "\"string\""
        },
        {
         "metadata": "{}",
         "name": "PriceCategoryCode",
         "type": "\"string\""
        },
        {
         "metadata": "{}",
         "name": "Terminal",
         "type": "\"string\""
        },
        {
         "metadata": "{}",
         "name": "BoardingArea",
         "type": "\"string\""
        },
        {
         "metadata": "{}",
         "name": "PassengerCount",
         "type": "\"integer\""
        }
       ],
       "type": "table"
      }
     },
     "output_type": "display_data"
    }
   ],
   "source": [
    "\n",
    "\n",
    "# Step 1\n",
    "AirlineDF = spark.read.format(\"csv\")\\\n",
    "   .option(\"inferSchema\", \"true\")\\\n",
    "   .option(\"header\", \"true\")\\\n",
    "   .load(\"/FileStore/tables/Homework_03-03-2025/Air_Traffic_Passenger_Statistics1999toOct2023.csv\")\n",
    "\n",
    "\n",
    "# Step 2\n",
    "AirlineDF.createOrReplaceTempView(\"Airline_Data_View\")\n",
    "\n",
    "# Step 3\n",
    "AirlineDF_4_SQL = spark.sql(\"\"\" SELECT `Activity Period` ActivityPeriod,  \\\n",
    "                           `Activity Period Start Date` ActivityPeriodStartDate, \\\n",
    "                           `Operating Airline` OperatingAirline, \\\n",
    "                           `Operating Airline IATA Code`\tOperatingAirlineIATACode, \\\n",
    "                           `Published Airline` PublishedAirline, \\\n",
    "                           `Published Airline IATA Code` PublishedAirlineIATACode, \\\n",
    "                           `GEO Summary` GEOSummary, \\\n",
    "                           `GEO Region` GEORegion, \\\n",
    "                           `Activity Type Code` ActivityTypeCode, \\\n",
    "                           `Price Category Code` PriceCategoryCode, \\\n",
    "                           Terminal, \\\n",
    "                           `Boarding Area` BoardingArea, \\\n",
    "                           `Passenger Count`\tPassengerCount \n",
    "                           FROM Airline_Data_View \"\"\")\n",
    "\n",
    "# Step 4\n",
    "print()\n",
    "print(\"DataFrame View\")\n",
    "display(AirlineDF_4_SQL.limit(10))\n",
    "\n"
   ]
  },
  {
   "cell_type": "markdown",
   "metadata": {
    "application/vnd.databricks.v1+cell": {
     "cellMetadata": {
      "byteLimit": 2048000,
      "rowLimit": 10000
     },
     "inputWidgets": {},
     "nuid": "80f67253-a15c-45be-98ab-dff9f92072dd",
     "showTitle": false,
     "tableResultSettingsMap": {},
     "title": ""
    }
   },
   "source": [
    "# Question 1: Pareto Analysis\n",
    "### - Number of Passengers travelled yearly inside USA\n",
    "### - Month-Year that had the most number of Passenger trips \n",
    "### - Month-Year that had the least number of Passenger trips "
   ]
  },
  {
   "cell_type": "code",
   "execution_count": 0,
   "metadata": {
    "application/vnd.databricks.v1+cell": {
     "cellMetadata": {
      "byteLimit": 2048000,
      "rowLimit": 10000
     },
     "inputWidgets": {},
     "nuid": "d26836d9-f422-4769-ac8a-c0452caa009e",
     "showTitle": false,
     "tableResultSettingsMap": {
      "0": {
       "filterBlob": "{\"filterGroups\":[],\"syncTimestamp\":1741004120241}",
       "tableResultIndex": 0
      }
     },
     "title": ""
    }
   },
   "outputs": [
    {
     "output_type": "stream",
     "name": "stdout",
     "output_type": "stream",
     "text": [
      "\nPareto Analysis of Airlines in Geographical Region of the Unites States of America\n"
     ]
    },
    {
     "output_type": "display_data",
     "data": {
      "text/html": [
       "<style scoped>\n",
       "  .table-result-container {\n",
       "    max-height: 300px;\n",
       "    overflow: auto;\n",
       "  }\n",
       "  table, th, td {\n",
       "    border: 1px solid black;\n",
       "    border-collapse: collapse;\n",
       "  }\n",
       "  th, td {\n",
       "    padding: 5px;\n",
       "  }\n",
       "  th {\n",
       "    text-align: left;\n",
       "  }\n",
       "</style><div class='table-result-container'><table class='table-result'><thead style='background-color: white'><tr><th>ActivityPeriod</th><th>SumPassengerCount</th></tr></thead><tbody><tr><td>201908</td><td>2124944</td></tr><tr><td>201807</td><td>2097945</td></tr><tr><td>201808</td><td>2065900</td></tr><tr><td>201708</td><td>2058661</td></tr><tr><td>201806</td><td>2046234</td></tr><tr><td>201907</td><td>2037296</td></tr><tr><td>201707</td><td>2029964</td></tr><tr><td>201906</td><td>2016628</td></tr><tr><td>201706</td><td>1931560</td></tr><tr><td>201607</td><td>1928415</td></tr><tr><td>201608</td><td>1926679</td></tr><tr><td>201606</td><td>1893727</td></tr><tr><td>201805</td><td>1892932</td></tr><tr><td>201710</td><td>1876452</td></tr><tr><td>201810</td><td>1831214</td></tr><tr><td>201712</td><td>1824399</td></tr><tr><td>201905</td><td>1820053</td></tr><tr><td>201507</td><td>1815878</td></tr><tr><td>201508</td><td>1808823</td></tr><tr><td>201709</td><td>1808286</td></tr><tr><td>201803</td><td>1804536</td></tr><tr><td>201804</td><td>1804175</td></tr><tr><td>201711</td><td>1803432</td></tr><tr><td>201910</td><td>1796957</td></tr><tr><td>201705</td><td>1762585</td></tr><tr><td>201506</td><td>1760459</td></tr><tr><td>201610</td><td>1759623</td></tr><tr><td>201912</td><td>1753492</td></tr><tr><td>201605</td><td>1747303</td></tr><tr><td>201903</td><td>1744583</td></tr><tr><td>201408</td><td>1743348</td></tr><tr><td>201510</td><td>1734471</td></tr><tr><td>201609</td><td>1733944</td></tr><tr><td>201904</td><td>1727371</td></tr><tr><td>202307</td><td>1727174</td></tr><tr><td>201812</td><td>1726226</td></tr><tr><td>201809</td><td>1720818</td></tr><tr><td>201208</td><td>1705492</td></tr><tr><td>201407</td><td>1705040</td></tr><tr><td>201811</td><td>1699995</td></tr><tr><td>202306</td><td>1695181</td></tr><tr><td>201704</td><td>1694127</td></tr><tr><td>201703</td><td>1690268</td></tr><tr><td>201406</td><td>1677202</td></tr><tr><td>201308</td><td>1674690</td></tr><tr><td>201611</td><td>1674626</td></tr><tr><td>201612</td><td>1671449</td></tr><tr><td>201505</td><td>1666018</td></tr><tr><td>202308</td><td>1665705</td></tr><tr><td>201207</td><td>1655223</td></tr><tr><td>201911</td><td>1653046</td></tr><tr><td>201509</td><td>1631556</td></tr><tr><td>201512</td><td>1622065</td></tr><tr><td>201604</td><td>1619586</td></tr><tr><td>201603</td><td>1619266</td></tr><tr><td>201306</td><td>1615320</td></tr><tr><td>199907</td><td>1612097</td></tr><tr><td>201206</td><td>1610250</td></tr><tr><td>201410</td><td>1606936</td></tr><tr><td>201405</td><td>1602808</td></tr><tr><td>201307</td><td>1601990</td></tr><tr><td>199908</td><td>1601672</td></tr><tr><td>201511</td><td>1595611</td></tr><tr><td>201909</td><td>1591838</td></tr><tr><td>201503</td><td>1579309</td></tr><tr><td>201504</td><td>1576925</td></tr><tr><td>200006</td><td>1569313</td></tr><tr><td>200007</td><td>1564954</td></tr><tr><td>202305</td><td>1564568</td></tr><tr><td>200008</td><td>1551410</td></tr><tr><td>202206</td><td>1545758</td></tr><tr><td>201305</td><td>1529544</td></tr><tr><td>201310</td><td>1527896</td></tr><tr><td>201801</td><td>1527281</td></tr><tr><td>201404</td><td>1525445</td></tr><tr><td>201412</td><td>1525051</td></tr><tr><td>201312</td><td>1522640</td></tr><tr><td>201409</td><td>1518479</td></tr><tr><td>201210</td><td>1515249</td></tr><tr><td>202207</td><td>1510404</td></tr><tr><td>201107</td><td>1508056</td></tr><tr><td>202210</td><td>1501270</td></tr><tr><td>201108</td><td>1499109</td></tr><tr><td>201403</td><td>1491577</td></tr><tr><td>202001</td><td>1488874</td></tr><tr><td>202208</td><td>1483142</td></tr><tr><td>201209</td><td>1482529</td></tr><tr><td>201802</td><td>1478679</td></tr><tr><td>201205</td><td>1478095</td></tr><tr><td>201106</td><td>1468908</td></tr><tr><td>201901</td><td>1465497</td></tr><tr><td>201309</td><td>1463077</td></tr><tr><td>201411</td><td>1458968</td></tr><tr><td>202209</td><td>1446118</td></tr><tr><td>200108</td><td>1443616</td></tr><tr><td>202002</td><td>1439955</td></tr><tr><td>202303</td><td>1436756</td></tr><tr><td>201303</td><td>1435594</td></tr><tr><td>202304</td><td>1435437</td></tr><tr><td>201008</td><td>1427328</td></tr><tr><td>201701</td><td>1421306</td></tr><tr><td>201304</td><td>1416294</td></tr><tr><td>199910</td><td>1413969</td></tr><tr><td>201007</td><td>1409698</td></tr><tr><td>202205</td><td>1409528</td></tr><tr><td>201110</td><td>1407699</td></tr><tr><td>201006</td><td>1401267</td></tr><tr><td>200908</td><td>1400696</td></tr><tr><td>201204</td><td>1399368</td></tr><tr><td>201311</td><td>1397265</td></tr><tr><td>201211</td><td>1396383</td></tr><tr><td>200907</td><td>1396344</td></tr><tr><td>201109</td><td>1395349</td></tr><tr><td>201601</td><td>1394304</td></tr><tr><td>200005</td><td>1392674</td></tr><tr><td>202211</td><td>1387182</td></tr><tr><td>201203</td><td>1386529</td></tr><tr><td>201902</td><td>1384813</td></tr><tr><td>202212</td><td>1382565</td></tr><tr><td>201212</td><td>1371387</td></tr><tr><td>201112</td><td>1370770</td></tr><tr><td>200808</td><td>1364930</td></tr><tr><td>201602</td><td>1362401</td></tr><tr><td>201105</td><td>1359517</td></tr><tr><td>200004</td><td>1358890</td></tr><tr><td>199909</td><td>1357451</td></tr><tr><td>201010</td><td>1355953</td></tr><tr><td>201501</td><td>1351971</td></tr><tr><td>202204</td><td>1347394</td></tr><tr><td>200807</td><td>1347210</td></tr><tr><td>200106</td><td>1342959</td></tr><tr><td>201111</td><td>1338638</td></tr><tr><td>200906</td><td>1331989</td></tr><tr><td>200003</td><td>1322169</td></tr><tr><td>200107</td><td>1319624</td></tr><tr><td>201702</td><td>1319309</td></tr><tr><td>200010</td><td>1316767</td></tr><tr><td>200806</td><td>1314679</td></tr><tr><td>200011</td><td>1312710</td></tr><tr><td>201401</td><td>1306268</td></tr><tr><td>200009</td><td>1303318</td></tr><tr><td>201009</td><td>1299521</td></tr><tr><td>201005</td><td>1293854</td></tr><tr><td>202203</td><td>1292133</td></tr><tr><td>199911</td><td>1288641</td></tr><tr><td>200708</td><td>1282108</td></tr><tr><td>200910</td><td>1278298</td></tr><tr><td>199912</td><td>1271277</td></tr><tr><td>200012</td><td>1261472</td></tr><tr><td>201502</td><td>1257293</td></tr><tr><td>201011</td><td>1255274</td></tr><tr><td>200805</td><td>1252251</td></tr><tr><td>201104</td><td>1246822</td></tr><tr><td>200909</td><td>1244710</td></tr><tr><td>201012</td><td>1244293</td></tr><tr><td>200707</td><td>1241966</td></tr><tr><td>200905</td><td>1239919</td></tr><tr><td>200706</td><td>1235679</td></tr><tr><td>201004</td><td>1234768</td></tr><tr><td>201201</td><td>1228773</td></tr><tr><td>201103</td><td>1227591</td></tr><tr><td>200105</td><td>1224540</td></tr><tr><td>201301</td><td>1221356</td></tr><tr><td>201003</td><td>1213342</td></tr><tr><td>200208</td><td>1209153</td></tr><tr><td>200407</td><td>1206753</td></tr><tr><td>200912</td><td>1205993</td></tr><tr><td>202112</td><td>1205517</td></tr><tr><td>202111</td><td>1201975</td></tr><tr><td>200408</td><td>1199605</td></tr><tr><td>200810</td><td>1199301</td></tr><tr><td>201402</td><td>1196235</td></tr><tr><td>200104</td><td>1193681</td></tr><tr><td>200103</td><td>1186188</td></tr><tr><td>201202</td><td>1186008</td></tr><tr><td>200507</td><td>1185756</td></tr><tr><td>200207</td><td>1185176</td></tr><tr><td>200607</td><td>1181556</td></tr><tr><td>200911</td><td>1180019</td></tr><tr><td>200710</td><td>1179361</td></tr><tr><td>200508</td><td>1179285</td></tr><tr><td>202107</td><td>1178760</td></tr><tr><td>202110</td><td>1177345</td></tr><tr><td>200803</td><td>1175632</td></tr><tr><td>201302</td><td>1171607</td></tr><tr><td>200406</td><td>1169887</td></tr><tr><td>202302</td><td>1169702</td></tr><tr><td>200904</td><td>1165732</td></tr><tr><td>200606</td><td>1165103</td></tr><tr><td>202301</td><td>1164679</td></tr><tr><td>200506</td><td>1164559</td></tr><tr><td>200804</td><td>1154922</td></tr><tr><td>200608</td><td>1154879</td></tr><tr><td>200809</td><td>1146897</td></tr><tr><td>200903</td><td>1137520</td></tr><tr><td>200206</td><td>1135347</td></tr><tr><td>200705</td><td>1130868</td></tr><tr><td>200812</td><td>1129560</td></tr><tr><td>202108</td><td>1121854</td></tr><tr><td>200308</td><td>1121344</td></tr><tr><td>200711</td><td>1108660</td></tr><tr><td>200709</td><td>1107711</td></tr><tr><td>200307</td><td>1103294</td></tr><tr><td>200002</td><td>1092967</td></tr><tr><td>200712</td><td>1088225</td></tr><tr><td>200001</td><td>1086822</td></tr><tr><td>200704</td><td>1073778</td></tr><tr><td>201101</td><td>1072376</td></tr><tr><td>200811</td><td>1071866</td></tr><tr><td>200410</td><td>1067002</td></tr><tr><td>200101</td><td>1059805</td></tr><tr><td>200505</td><td>1057082</td></tr><tr><td>200610</td><td>1054853</td></tr><tr><td>200703</td><td>1045864</td></tr><tr><td>202109</td><td>1044634</td></tr><tr><td>201001</td><td>1042552</td></tr><tr><td>200510</td><td>1040518</td></tr><tr><td>200605</td><td>1039657</td></tr><tr><td>200405</td><td>1039291</td></tr><tr><td>200306</td><td>1033527</td></tr><tr><td>200604</td><td>1029324</td></tr><tr><td>200509</td><td>1026326</td></tr><tr><td>200205</td><td>1022719</td></tr><tr><td>200404</td><td>1018228</td></tr><tr><td>200503</td><td>1016133</td></tr><tr><td>200609</td><td>1011306</td></tr><tr><td>200409</td><td>1009685</td></tr><tr><td>200612</td><td>1006997</td></tr><tr><td>202106</td><td>1006372</td></tr><tr><td>201102</td><td>1004488</td></tr><tr><td>200512</td><td>1003748</td></tr><tr><td>200412</td><td>1000087</td></tr><tr><td>200603</td><td>1000017</td></tr><tr><td>200102</td><td>999235</td></tr><tr><td>200511</td><td>995862</td></tr><tr><td>200611</td><td>994909</td></tr><tr><td>200212</td><td>987729</td></tr><tr><td>200203</td><td>974472</td></tr><tr><td>200504</td><td>970081</td></tr><tr><td>200403</td><td>968885</td></tr><tr><td>201002</td><td>968026</td></tr><tr><td>200802</td><td>966935</td></tr><tr><td>200901</td><td>965559</td></tr><tr><td>200312</td><td>961487</td></tr><tr><td>200411</td><td>959057</td></tr><tr><td>200210</td><td>953712</td></tr><tr><td>202202</td><td>948859</td></tr><tr><td>200310</td><td>947182</td></tr><tr><td>200204</td><td>946145</td></tr><tr><td>200801</td><td>935024</td></tr><tr><td>200110</td><td>912932</td></tr><tr><td>200209</td><td>911398</td></tr><tr><td>200112</td><td>910961</td></tr><tr><td>200311</td><td>904466</td></tr><tr><td>200902</td><td>903367</td></tr><tr><td>200111</td><td>902858</td></tr><tr><td>200305</td><td>886937</td></tr><tr><td>200309</td><td>876717</td></tr><tr><td>200701</td><td>876459</td></tr><tr><td>200303</td><td>871208</td></tr><tr><td>200601</td><td>862833</td></tr><tr><td>200211</td><td>861563</td></tr><tr><td>200501</td><td>858688</td></tr><tr><td>200304</td><td>855694</td></tr><tr><td>200702</td><td>841826</td></tr><tr><td>200201</td><td>816858</td></tr><tr><td>202201</td><td>816277</td></tr><tr><td>200602</td><td>815013</td></tr><tr><td>200502</td><td>810930</td></tr><tr><td>200401</td><td>799902</td></tr><tr><td>200402</td><td>795432</td></tr><tr><td>202105</td><td>787048</td></tr><tr><td>200301</td><td>774998</td></tr><tr><td>200202</td><td>767317</td></tr><tr><td>200109</td><td>767234</td></tr><tr><td>200302</td><td>722889</td></tr><tr><td>202003</td><td>714066</td></tr><tr><td>202104</td><td>670120</td></tr><tr><td>202103</td><td>519436</td></tr><tr><td>202010</td><td>483220</td></tr><tr><td>202011</td><td>457419</td></tr><tr><td>202009</td><td>409584</td></tr><tr><td>202012</td><td>395548</td></tr><tr><td>202008</td><td>379531</td></tr><tr><td>202007</td><td>348741</td></tr><tr><td>202102</td><td>323763</td></tr><tr><td>202101</td><td>310903</td></tr><tr><td>202006</td><td>260370</td></tr><tr><td>202005</td><td>133438</td></tr><tr><td>202004</td><td>60856</td></tr></tbody></table></div>"
      ]
     },
     "metadata": {
      "application/vnd.databricks.v1+output": {
       "addedWidgets": {},
       "aggData": [],
       "aggError": "",
       "aggOverflow": false,
       "aggSchema": [],
       "aggSeriesLimitReached": false,
       "aggType": "",
       "arguments": {},
       "columnCustomDisplayInfos": {},
       "data": [
        [
         201908,
         2124944
        ],
        [
         201807,
         2097945
        ],
        [
         201808,
         2065900
        ],
        [
         201708,
         2058661
        ],
        [
         201806,
         2046234
        ],
        [
         201907,
         2037296
        ],
        [
         201707,
         2029964
        ],
        [
         201906,
         2016628
        ],
        [
         201706,
         1931560
        ],
        [
         201607,
         1928415
        ],
        [
         201608,
         1926679
        ],
        [
         201606,
         1893727
        ],
        [
         201805,
         1892932
        ],
        [
         201710,
         1876452
        ],
        [
         201810,
         1831214
        ],
        [
         201712,
         1824399
        ],
        [
         201905,
         1820053
        ],
        [
         201507,
         1815878
        ],
        [
         201508,
         1808823
        ],
        [
         201709,
         1808286
        ],
        [
         201803,
         1804536
        ],
        [
         201804,
         1804175
        ],
        [
         201711,
         1803432
        ],
        [
         201910,
         1796957
        ],
        [
         201705,
         1762585
        ],
        [
         201506,
         1760459
        ],
        [
         201610,
         1759623
        ],
        [
         201912,
         1753492
        ],
        [
         201605,
         1747303
        ],
        [
         201903,
         1744583
        ],
        [
         201408,
         1743348
        ],
        [
         201510,
         1734471
        ],
        [
         201609,
         1733944
        ],
        [
         201904,
         1727371
        ],
        [
         202307,
         1727174
        ],
        [
         201812,
         1726226
        ],
        [
         201809,
         1720818
        ],
        [
         201208,
         1705492
        ],
        [
         201407,
         1705040
        ],
        [
         201811,
         1699995
        ],
        [
         202306,
         1695181
        ],
        [
         201704,
         1694127
        ],
        [
         201703,
         1690268
        ],
        [
         201406,
         1677202
        ],
        [
         201308,
         1674690
        ],
        [
         201611,
         1674626
        ],
        [
         201612,
         1671449
        ],
        [
         201505,
         1666018
        ],
        [
         202308,
         1665705
        ],
        [
         201207,
         1655223
        ],
        [
         201911,
         1653046
        ],
        [
         201509,
         1631556
        ],
        [
         201512,
         1622065
        ],
        [
         201604,
         1619586
        ],
        [
         201603,
         1619266
        ],
        [
         201306,
         1615320
        ],
        [
         199907,
         1612097
        ],
        [
         201206,
         1610250
        ],
        [
         201410,
         1606936
        ],
        [
         201405,
         1602808
        ],
        [
         201307,
         1601990
        ],
        [
         199908,
         1601672
        ],
        [
         201511,
         1595611
        ],
        [
         201909,
         1591838
        ],
        [
         201503,
         1579309
        ],
        [
         201504,
         1576925
        ],
        [
         200006,
         1569313
        ],
        [
         200007,
         1564954
        ],
        [
         202305,
         1564568
        ],
        [
         200008,
         1551410
        ],
        [
         202206,
         1545758
        ],
        [
         201305,
         1529544
        ],
        [
         201310,
         1527896
        ],
        [
         201801,
         1527281
        ],
        [
         201404,
         1525445
        ],
        [
         201412,
         1525051
        ],
        [
         201312,
         1522640
        ],
        [
         201409,
         1518479
        ],
        [
         201210,
         1515249
        ],
        [
         202207,
         1510404
        ],
        [
         201107,
         1508056
        ],
        [
         202210,
         1501270
        ],
        [
         201108,
         1499109
        ],
        [
         201403,
         1491577
        ],
        [
         202001,
         1488874
        ],
        [
         202208,
         1483142
        ],
        [
         201209,
         1482529
        ],
        [
         201802,
         1478679
        ],
        [
         201205,
         1478095
        ],
        [
         201106,
         1468908
        ],
        [
         201901,
         1465497
        ],
        [
         201309,
         1463077
        ],
        [
         201411,
         1458968
        ],
        [
         202209,
         1446118
        ],
        [
         200108,
         1443616
        ],
        [
         202002,
         1439955
        ],
        [
         202303,
         1436756
        ],
        [
         201303,
         1435594
        ],
        [
         202304,
         1435437
        ],
        [
         201008,
         1427328
        ],
        [
         201701,
         1421306
        ],
        [
         201304,
         1416294
        ],
        [
         199910,
         1413969
        ],
        [
         201007,
         1409698
        ],
        [
         202205,
         1409528
        ],
        [
         201110,
         1407699
        ],
        [
         201006,
         1401267
        ],
        [
         200908,
         1400696
        ],
        [
         201204,
         1399368
        ],
        [
         201311,
         1397265
        ],
        [
         201211,
         1396383
        ],
        [
         200907,
         1396344
        ],
        [
         201109,
         1395349
        ],
        [
         201601,
         1394304
        ],
        [
         200005,
         1392674
        ],
        [
         202211,
         1387182
        ],
        [
         201203,
         1386529
        ],
        [
         201902,
         1384813
        ],
        [
         202212,
         1382565
        ],
        [
         201212,
         1371387
        ],
        [
         201112,
         1370770
        ],
        [
         200808,
         1364930
        ],
        [
         201602,
         1362401
        ],
        [
         201105,
         1359517
        ],
        [
         200004,
         1358890
        ],
        [
         199909,
         1357451
        ],
        [
         201010,
         1355953
        ],
        [
         201501,
         1351971
        ],
        [
         202204,
         1347394
        ],
        [
         200807,
         1347210
        ],
        [
         200106,
         1342959
        ],
        [
         201111,
         1338638
        ],
        [
         200906,
         1331989
        ],
        [
         200003,
         1322169
        ],
        [
         200107,
         1319624
        ],
        [
         201702,
         1319309
        ],
        [
         200010,
         1316767
        ],
        [
         200806,
         1314679
        ],
        [
         200011,
         1312710
        ],
        [
         201401,
         1306268
        ],
        [
         200009,
         1303318
        ],
        [
         201009,
         1299521
        ],
        [
         201005,
         1293854
        ],
        [
         202203,
         1292133
        ],
        [
         199911,
         1288641
        ],
        [
         200708,
         1282108
        ],
        [
         200910,
         1278298
        ],
        [
         199912,
         1271277
        ],
        [
         200012,
         1261472
        ],
        [
         201502,
         1257293
        ],
        [
         201011,
         1255274
        ],
        [
         200805,
         1252251
        ],
        [
         201104,
         1246822
        ],
        [
         200909,
         1244710
        ],
        [
         201012,
         1244293
        ],
        [
         200707,
         1241966
        ],
        [
         200905,
         1239919
        ],
        [
         200706,
         1235679
        ],
        [
         201004,
         1234768
        ],
        [
         201201,
         1228773
        ],
        [
         201103,
         1227591
        ],
        [
         200105,
         1224540
        ],
        [
         201301,
         1221356
        ],
        [
         201003,
         1213342
        ],
        [
         200208,
         1209153
        ],
        [
         200407,
         1206753
        ],
        [
         200912,
         1205993
        ],
        [
         202112,
         1205517
        ],
        [
         202111,
         1201975
        ],
        [
         200408,
         1199605
        ],
        [
         200810,
         1199301
        ],
        [
         201402,
         1196235
        ],
        [
         200104,
         1193681
        ],
        [
         200103,
         1186188
        ],
        [
         201202,
         1186008
        ],
        [
         200507,
         1185756
        ],
        [
         200207,
         1185176
        ],
        [
         200607,
         1181556
        ],
        [
         200911,
         1180019
        ],
        [
         200710,
         1179361
        ],
        [
         200508,
         1179285
        ],
        [
         202107,
         1178760
        ],
        [
         202110,
         1177345
        ],
        [
         200803,
         1175632
        ],
        [
         201302,
         1171607
        ],
        [
         200406,
         1169887
        ],
        [
         202302,
         1169702
        ],
        [
         200904,
         1165732
        ],
        [
         200606,
         1165103
        ],
        [
         202301,
         1164679
        ],
        [
         200506,
         1164559
        ],
        [
         200804,
         1154922
        ],
        [
         200608,
         1154879
        ],
        [
         200809,
         1146897
        ],
        [
         200903,
         1137520
        ],
        [
         200206,
         1135347
        ],
        [
         200705,
         1130868
        ],
        [
         200812,
         1129560
        ],
        [
         202108,
         1121854
        ],
        [
         200308,
         1121344
        ],
        [
         200711,
         1108660
        ],
        [
         200709,
         1107711
        ],
        [
         200307,
         1103294
        ],
        [
         200002,
         1092967
        ],
        [
         200712,
         1088225
        ],
        [
         200001,
         1086822
        ],
        [
         200704,
         1073778
        ],
        [
         201101,
         1072376
        ],
        [
         200811,
         1071866
        ],
        [
         200410,
         1067002
        ],
        [
         200101,
         1059805
        ],
        [
         200505,
         1057082
        ],
        [
         200610,
         1054853
        ],
        [
         200703,
         1045864
        ],
        [
         202109,
         1044634
        ],
        [
         201001,
         1042552
        ],
        [
         200510,
         1040518
        ],
        [
         200605,
         1039657
        ],
        [
         200405,
         1039291
        ],
        [
         200306,
         1033527
        ],
        [
         200604,
         1029324
        ],
        [
         200509,
         1026326
        ],
        [
         200205,
         1022719
        ],
        [
         200404,
         1018228
        ],
        [
         200503,
         1016133
        ],
        [
         200609,
         1011306
        ],
        [
         200409,
         1009685
        ],
        [
         200612,
         1006997
        ],
        [
         202106,
         1006372
        ],
        [
         201102,
         1004488
        ],
        [
         200512,
         1003748
        ],
        [
         200412,
         1000087
        ],
        [
         200603,
         1000017
        ],
        [
         200102,
         999235
        ],
        [
         200511,
         995862
        ],
        [
         200611,
         994909
        ],
        [
         200212,
         987729
        ],
        [
         200203,
         974472
        ],
        [
         200504,
         970081
        ],
        [
         200403,
         968885
        ],
        [
         201002,
         968026
        ],
        [
         200802,
         966935
        ],
        [
         200901,
         965559
        ],
        [
         200312,
         961487
        ],
        [
         200411,
         959057
        ],
        [
         200210,
         953712
        ],
        [
         202202,
         948859
        ],
        [
         200310,
         947182
        ],
        [
         200204,
         946145
        ],
        [
         200801,
         935024
        ],
        [
         200110,
         912932
        ],
        [
         200209,
         911398
        ],
        [
         200112,
         910961
        ],
        [
         200311,
         904466
        ],
        [
         200902,
         903367
        ],
        [
         200111,
         902858
        ],
        [
         200305,
         886937
        ],
        [
         200309,
         876717
        ],
        [
         200701,
         876459
        ],
        [
         200303,
         871208
        ],
        [
         200601,
         862833
        ],
        [
         200211,
         861563
        ],
        [
         200501,
         858688
        ],
        [
         200304,
         855694
        ],
        [
         200702,
         841826
        ],
        [
         200201,
         816858
        ],
        [
         202201,
         816277
        ],
        [
         200602,
         815013
        ],
        [
         200502,
         810930
        ],
        [
         200401,
         799902
        ],
        [
         200402,
         795432
        ],
        [
         202105,
         787048
        ],
        [
         200301,
         774998
        ],
        [
         200202,
         767317
        ],
        [
         200109,
         767234
        ],
        [
         200302,
         722889
        ],
        [
         202003,
         714066
        ],
        [
         202104,
         670120
        ],
        [
         202103,
         519436
        ],
        [
         202010,
         483220
        ],
        [
         202011,
         457419
        ],
        [
         202009,
         409584
        ],
        [
         202012,
         395548
        ],
        [
         202008,
         379531
        ],
        [
         202007,
         348741
        ],
        [
         202102,
         323763
        ],
        [
         202101,
         310903
        ],
        [
         202006,
         260370
        ],
        [
         202005,
         133438
        ],
        [
         202004,
         60856
        ]
       ],
       "datasetInfos": [],
       "dbfsResultPath": null,
       "isJsonSchema": true,
       "metadata": {},
       "overflow": false,
       "plotOptions": {
        "customPlotOptions": {},
        "displayType": "table",
        "pivotAggregation": null,
        "pivotColumns": null,
        "xColumns": null,
        "yColumns": null
       },
       "removedWidgets": [],
       "schema": [
        {
         "metadata": "{}",
         "name": "ActivityPeriod",
         "type": "\"integer\""
        },
        {
         "metadata": "{}",
         "name": "SumPassengerCount",
         "type": "\"long\""
        }
       ],
       "type": "table"
      }
     },
     "output_type": "display_data"
    },
    {
     "output_type": "stream",
     "name": "stdout",
     "output_type": "stream",
     "text": [
      "\nMost number of Trips\n"
     ]
    },
    {
     "output_type": "display_data",
     "data": {
      "text/html": [
       "<style scoped>\n",
       "  .table-result-container {\n",
       "    max-height: 300px;\n",
       "    overflow: auto;\n",
       "  }\n",
       "  table, th, td {\n",
       "    border: 1px solid black;\n",
       "    border-collapse: collapse;\n",
       "  }\n",
       "  th, td {\n",
       "    padding: 5px;\n",
       "  }\n",
       "  th {\n",
       "    text-align: left;\n",
       "  }\n",
       "</style><div class='table-result-container'><table class='table-result'><thead style='background-color: white'><tr><th>ActivityPeriod</th><th>SumPassengerCount</th></tr></thead><tbody><tr><td>201908</td><td>2124944</td></tr></tbody></table></div>"
      ]
     },
     "metadata": {
      "application/vnd.databricks.v1+output": {
       "addedWidgets": {},
       "aggData": [],
       "aggError": "",
       "aggOverflow": false,
       "aggSchema": [],
       "aggSeriesLimitReached": false,
       "aggType": "",
       "arguments": {},
       "columnCustomDisplayInfos": {},
       "data": [
        [
         201908,
         2124944
        ]
       ],
       "datasetInfos": [],
       "dbfsResultPath": null,
       "isJsonSchema": true,
       "metadata": {},
       "overflow": false,
       "plotOptions": {
        "customPlotOptions": {},
        "displayType": "table",
        "pivotAggregation": null,
        "pivotColumns": null,
        "xColumns": null,
        "yColumns": null
       },
       "removedWidgets": [],
       "schema": [
        {
         "metadata": "{}",
         "name": "ActivityPeriod",
         "type": "\"integer\""
        },
        {
         "metadata": "{}",
         "name": "SumPassengerCount",
         "type": "\"long\""
        }
       ],
       "type": "table"
      }
     },
     "output_type": "display_data"
    },
    {
     "output_type": "stream",
     "name": "stdout",
     "output_type": "stream",
     "text": [
      "\nLeast number of Trips\n"
     ]
    },
    {
     "output_type": "display_data",
     "data": {
      "text/html": [
       "<style scoped>\n",
       "  .table-result-container {\n",
       "    max-height: 300px;\n",
       "    overflow: auto;\n",
       "  }\n",
       "  table, th, td {\n",
       "    border: 1px solid black;\n",
       "    border-collapse: collapse;\n",
       "  }\n",
       "  th, td {\n",
       "    padding: 5px;\n",
       "  }\n",
       "  th {\n",
       "    text-align: left;\n",
       "  }\n",
       "</style><div class='table-result-container'><table class='table-result'><thead style='background-color: white'><tr><th>ActivityPeriod</th><th>SumPassengerCount</th></tr></thead><tbody><tr><td>202004</td><td>60856</td></tr></tbody></table></div>"
      ]
     },
     "metadata": {
      "application/vnd.databricks.v1+output": {
       "addedWidgets": {},
       "aggData": [],
       "aggError": "",
       "aggOverflow": false,
       "aggSchema": [],
       "aggSeriesLimitReached": false,
       "aggType": "",
       "arguments": {},
       "columnCustomDisplayInfos": {},
       "data": [
        [
         202004,
         60856
        ]
       ],
       "datasetInfos": [],
       "dbfsResultPath": null,
       "isJsonSchema": true,
       "metadata": {},
       "overflow": false,
       "plotOptions": {
        "customPlotOptions": {},
        "displayType": "table",
        "pivotAggregation": null,
        "pivotColumns": null,
        "xColumns": null,
        "yColumns": null
       },
       "removedWidgets": [],
       "schema": [
        {
         "metadata": "{}",
         "name": "ActivityPeriod",
         "type": "\"integer\""
        },
        {
         "metadata": "{}",
         "name": "SumPassengerCount",
         "type": "\"long\""
        }
       ],
       "type": "table"
      }
     },
     "output_type": "display_data"
    }
   ],
   "source": [
    "\n",
    "# Temporary View of Spark Dataframe for Querying. \n",
    "AirlineDF_4_SQL.createOrReplaceTempView(\"AirlineDF_4_SQL_View\")\n",
    "\n",
    "\n",
    "print()\n",
    "print('Pareto Analysis of Airlines in Geographical Region of the Unites States of America')\n",
    "\n",
    "PassengersDF = spark.sql(\"\"\" SELECT ActivityPeriod, \\\n",
    "                           SUM( PassengerCount ) AS SumPassengerCount \\\n",
    "                           FROM AirlineDF_4_SQL_View \\\n",
    "                           WHERE GEORegion = 'US' AND ActivityTypeCode = 'Enplaned' \\\n",
    "                           GROUP BY ActivityPeriod \\\n",
    "                           ORDER BY SumPassengerCount DESC\n",
    "                           \"\"\")\n",
    "\n",
    "display(PassengersDF.limit(10))\n",
    "\n",
    "print()\n",
    "print('Most number of Trips')\n",
    "\n",
    "MostTripsPeriodDF = spark.sql(\"\"\"\n",
    "                              SELECT ActivityPeriod, \n",
    "                                     SUM(PassengerCount) AS SumPassengerCount\n",
    "                              FROM AirlineDF_4_SQL_View\n",
    "                              WHERE GEORegion = 'US'\n",
    "                                   AND ActivityTypeCode = 'Enplaned'\n",
    "                              GROUP BY ActivityPeriod\n",
    "                              ORDER BY SumPassengerCount DESC\n",
    "                              LIMIT 1\n",
    "                              \"\"\")\n",
    "\n",
    "display(MostTripsPeriodDF)\n",
    "\n",
    "print()\n",
    "print('Least number of Trips')\n",
    "\n",
    "LeastTripsPeriodDF = spark.sql(\"\"\"\n",
    "                              SELECT ActivityPeriod, \n",
    "                                     SUM(PassengerCount) AS SumPassengerCount\n",
    "                              FROM AirlineDF_4_SQL_View\n",
    "                              WHERE GEORegion = 'US'\n",
    "                                   AND ActivityTypeCode = 'Enplaned'\n",
    "                              GROUP BY ActivityPeriod\n",
    "                              ORDER BY SumPassengerCount ASC\n",
    "                              LIMIT 1\n",
    "                              \"\"\")\n",
    "\n",
    "display(LeastTripsPeriodDF)\n"
   ]
  },
  {
   "cell_type": "markdown",
   "metadata": {
    "application/vnd.databricks.v1+cell": {
     "cellMetadata": {
      "byteLimit": 2048000,
      "rowLimit": 10000
     },
     "inputWidgets": {},
     "nuid": "caa8c37c-d020-4472-8154-3153ff2ad446",
     "showTitle": false,
     "tableResultSettingsMap": {},
     "title": ""
    }
   },
   "source": [
    "# Note: Airlines carrying more/less number of passengers likely had the most/least number of flights.\n",
    "\n",
    "## The period that had the most number of passenger trips was August 2019 with 2,124,944 passengers. \n",
    "\n",
    "## The period that had the least number of passenger trips was April 2020 with 60,856 passengers. "
   ]
  },
  {
   "cell_type": "markdown",
   "metadata": {
    "application/vnd.databricks.v1+cell": {
     "cellMetadata": {
      "byteLimit": 2048000,
      "rowLimit": 10000
     },
     "inputWidgets": {},
     "nuid": "2992a1ef-3fb0-4ff9-ac29-e0cd8e07aa45",
     "showTitle": false,
     "tableResultSettingsMap": {},
     "title": ""
    }
   },
   "source": [
    "# Question 2: Number of Passenger Trend\n",
    "### - Line Chart in MS Excel\n",
    "\n",
    "![Passenger Trips Trend](/files/tables/Homework_1_Graph.png)\n"
   ]
  },
  {
   "cell_type": "markdown",
   "metadata": {
    "application/vnd.databricks.v1+cell": {
     "cellMetadata": {
      "byteLimit": 2048000,
      "rowLimit": 10000
     },
     "inputWidgets": {},
     "nuid": "ca446655-8f43-4e71-830c-89f2e7bb6eaf",
     "showTitle": false,
     "tableResultSettingsMap": {},
     "title": ""
    }
   },
   "source": [
    "### The number of passengers has been increasing overtime, considering a significant dip in the number of passengers during covid in 2020.\n"
   ]
  },
  {
   "cell_type": "markdown",
   "metadata": {
    "application/vnd.databricks.v1+cell": {
     "cellMetadata": {
      "byteLimit": 2048000,
      "rowLimit": 10000
     },
     "inputWidgets": {},
     "nuid": "96ebf907-ae78-468b-ad76-bd6b1b88b1ee",
     "showTitle": false,
     "tableResultSettingsMap": {},
     "title": ""
    }
   },
   "source": [
    "# Question 3: United Airlines\n",
    "## - The number of Operating Airlines published under United Airlines\n",
    "## - Most trips of an operating airline published under United Airlines (Note: Operating Airlines that carried the most passengers likely had the most trips)"
   ]
  },
  {
   "cell_type": "code",
   "execution_count": 0,
   "metadata": {
    "application/vnd.databricks.v1+cell": {
     "cellMetadata": {
      "byteLimit": 2048000,
      "rowLimit": 10000
     },
     "inputWidgets": {},
     "nuid": "fbb6703d-b232-4a4b-ad2b-2c37b6681773",
     "showTitle": false,
     "tableResultSettingsMap": {},
     "title": ""
    }
   },
   "outputs": [
    {
     "output_type": "stream",
     "name": "stdout",
     "output_type": "stream",
     "text": [
      "\nThe number of Operating Airlines published under United Airlines\n"
     ]
    },
    {
     "output_type": "display_data",
     "data": {
      "text/html": [
       "<style scoped>\n",
       "  .table-result-container {\n",
       "    max-height: 300px;\n",
       "    overflow: auto;\n",
       "  }\n",
       "  table, th, td {\n",
       "    border: 1px solid black;\n",
       "    border-collapse: collapse;\n",
       "  }\n",
       "  th, td {\n",
       "    padding: 5px;\n",
       "  }\n",
       "  th {\n",
       "    text-align: left;\n",
       "  }\n",
       "</style><div class='table-result-container'><table class='table-result'><thead style='background-color: white'><tr><th>NumOperatingAirlines</th></tr></thead><tbody><tr><td>2</td></tr></tbody></table></div>"
      ]
     },
     "metadata": {
      "application/vnd.databricks.v1+output": {
       "addedWidgets": {},
       "aggData": [],
       "aggError": "",
       "aggOverflow": false,
       "aggSchema": [],
       "aggSeriesLimitReached": false,
       "aggType": "",
       "arguments": {},
       "columnCustomDisplayInfos": {},
       "data": [
        [
         2
        ]
       ],
       "datasetInfos": [],
       "dbfsResultPath": null,
       "isJsonSchema": true,
       "metadata": {},
       "overflow": false,
       "plotOptions": {
        "customPlotOptions": {},
        "displayType": "table",
        "pivotAggregation": null,
        "pivotColumns": null,
        "xColumns": null,
        "yColumns": null
       },
       "removedWidgets": [],
       "schema": [
        {
         "metadata": "{}",
         "name": "NumOperatingAirlines",
         "type": "\"long\""
        }
       ],
       "type": "table"
      }
     },
     "output_type": "display_data"
    },
    {
     "output_type": "stream",
     "name": "stdout",
     "output_type": "stream",
     "text": [
      "\nMost trips of an operating airline published under United Airlines\n"
     ]
    },
    {
     "output_type": "display_data",
     "data": {
      "text/html": [
       "<style scoped>\n",
       "  .table-result-container {\n",
       "    max-height: 300px;\n",
       "    overflow: auto;\n",
       "  }\n",
       "  table, th, td {\n",
       "    border: 1px solid black;\n",
       "    border-collapse: collapse;\n",
       "  }\n",
       "  th, td {\n",
       "    padding: 5px;\n",
       "  }\n",
       "  th {\n",
       "    text-align: left;\n",
       "  }\n",
       "</style><div class='table-result-container'><table class='table-result'><thead style='background-color: white'><tr><th>OperatingAirline</th><th>TotalPassengers</th></tr></thead><tbody><tr><td>United Airlines</td><td>83016180</td></tr></tbody></table></div>"
      ]
     },
     "metadata": {
      "application/vnd.databricks.v1+output": {
       "addedWidgets": {},
       "aggData": [],
       "aggError": "",
       "aggOverflow": false,
       "aggSchema": [],
       "aggSeriesLimitReached": false,
       "aggType": "",
       "arguments": {},
       "columnCustomDisplayInfos": {},
       "data": [
        [
         "United Airlines",
         83016180
        ]
       ],
       "datasetInfos": [],
       "dbfsResultPath": null,
       "isJsonSchema": true,
       "metadata": {},
       "overflow": false,
       "plotOptions": {
        "customPlotOptions": {},
        "displayType": "table",
        "pivotAggregation": null,
        "pivotColumns": null,
        "xColumns": null,
        "yColumns": null
       },
       "removedWidgets": [],
       "schema": [
        {
         "metadata": "{}",
         "name": "OperatingAirline",
         "type": "\"string\""
        },
        {
         "metadata": "{}",
         "name": "TotalPassengers",
         "type": "\"long\""
        }
       ],
       "type": "table"
      }
     },
     "output_type": "display_data"
    }
   ],
   "source": [
    "print()\n",
    "print('The number of Operating Airlines published under United Airlines')\n",
    "\n",
    "OperatingAirlinesCountDF = spark.sql(\"\"\"\n",
    "    SELECT COUNT(DISTINCT OperatingAirline) AS NumOperatingAirlines\n",
    "    FROM AirlineDF_4_SQL_View\n",
    "    WHERE PublishedAirline = 'United Airlines'\n",
    "        AND GEORegion = 'US'\n",
    "            AND ActivityTypeCode = 'Enplaned'\n",
    "\"\"\")\n",
    "\n",
    "display(OperatingAirlinesCountDF)\n",
    "\n",
    "print()\n",
    "print('Most trips of an operating airline published under United Airlines')\n",
    "\n",
    "MostTripsAirlineDF = spark.sql(\"\"\"\n",
    "    SELECT OperatingAirline, \n",
    "           SUM(PassengerCount) AS TotalPassengers\n",
    "    FROM AirlineDF_4_SQL_View\n",
    "    WHERE PublishedAirline = 'United Airlines'\n",
    "        AND GEORegion = 'US'\n",
    "            AND ActivityTypeCode = 'Enplaned'\n",
    "    GROUP BY OperatingAirline\n",
    "    ORDER BY TotalPassengers DESC\n",
    "    LIMIT 1\n",
    "\"\"\")\n",
    "\n",
    "display(MostTripsAirlineDF)\n",
    "\n"
   ]
  },
  {
   "cell_type": "markdown",
   "metadata": {
    "application/vnd.databricks.v1+cell": {
     "cellMetadata": {
      "byteLimit": 2048000,
      "rowLimit": 10000
     },
     "inputWidgets": {},
     "nuid": "6cf529a3-bfa3-40e7-ab6c-de03afbc3088",
     "showTitle": false,
     "tableResultSettingsMap": {},
     "title": ""
    }
   },
   "source": [
    "# Question 4: Pareto Analysis of Low Fare Airlines"
   ]
  },
  {
   "cell_type": "code",
   "execution_count": 0,
   "metadata": {
    "application/vnd.databricks.v1+cell": {
     "cellMetadata": {
      "byteLimit": 2048000,
      "rowLimit": 10000
     },
     "inputWidgets": {},
     "nuid": "29ea5d20-6ba9-4bad-9fa8-c7a726850af2",
     "showTitle": false,
     "tableResultSettingsMap": {},
     "title": ""
    }
   },
   "outputs": [
    {
     "output_type": "stream",
     "name": "stdout",
     "output_type": "stream",
     "text": [
      "\nTop 5 Airlines with low fare by number of passengers\n"
     ]
    },
    {
     "output_type": "display_data",
     "data": {
      "text/html": [
       "<style scoped>\n",
       "  .table-result-container {\n",
       "    max-height: 300px;\n",
       "    overflow: auto;\n",
       "  }\n",
       "  table, th, td {\n",
       "    border: 1px solid black;\n",
       "    border-collapse: collapse;\n",
       "  }\n",
       "  th, td {\n",
       "    padding: 5px;\n",
       "  }\n",
       "  th {\n",
       "    text-align: left;\n",
       "  }\n",
       "</style><div class='table-result-container'><table class='table-result'><thead style='background-color: white'><tr><th>OperatingAirline</th><th>TotalPassengers</th></tr></thead><tbody><tr><td>Southwest Airlines</td><td>22608342</td></tr><tr><td>Virgin America</td><td>18584980</td></tr><tr><td>JetBlue Airways</td><td>8741138</td></tr><tr><td>Frontier Airlines</td><td>5027530</td></tr><tr><td>US Airways</td><td>3465570</td></tr></tbody></table></div>"
      ]
     },
     "metadata": {
      "application/vnd.databricks.v1+output": {
       "addedWidgets": {},
       "aggData": [],
       "aggError": "",
       "aggOverflow": false,
       "aggSchema": [],
       "aggSeriesLimitReached": false,
       "aggType": "",
       "arguments": {},
       "columnCustomDisplayInfos": {},
       "data": [
        [
         "Southwest Airlines",
         22608342
        ],
        [
         "Virgin America",
         18584980
        ],
        [
         "JetBlue Airways",
         8741138
        ],
        [
         "Frontier Airlines",
         5027530
        ],
        [
         "US Airways",
         3465570
        ]
       ],
       "datasetInfos": [],
       "dbfsResultPath": null,
       "isJsonSchema": true,
       "metadata": {},
       "overflow": false,
       "plotOptions": {
        "customPlotOptions": {},
        "displayType": "table",
        "pivotAggregation": null,
        "pivotColumns": null,
        "xColumns": null,
        "yColumns": null
       },
       "removedWidgets": [],
       "schema": [
        {
         "metadata": "{}",
         "name": "OperatingAirline",
         "type": "\"string\""
        },
        {
         "metadata": "{}",
         "name": "TotalPassengers",
         "type": "\"long\""
        }
       ],
       "type": "table"
      }
     },
     "output_type": "display_data"
    }
   ],
   "source": [
    "print()\n",
    "print('Top 5 Airlines with low fare by number of passengers')\n",
    "\n",
    "Top5LowFareAirlinesDF = spark.sql(\"\"\"\n",
    "    SELECT OperatingAirline, \n",
    "           SUM(PassengerCount) AS TotalPassengers\n",
    "    FROM AirlineDF_4_SQL_View\n",
    "    WHERE PriceCategoryCode = 'Low Fare'\n",
    "        AND GEORegion = 'US'\n",
    "            AND ActivityTypeCode = 'Enplaned'\n",
    "    GROUP BY OperatingAirline\n",
    "    ORDER BY TotalPassengers DESC\n",
    "    LIMIT 5\n",
    "\"\"\")\n",
    "\n",
    "display(Top5LowFareAirlinesDF)"
   ]
  },
  {
   "cell_type": "code",
   "execution_count": 0,
   "metadata": {
    "application/vnd.databricks.v1+cell": {
     "cellMetadata": {
      "byteLimit": 2048000,
      "rowLimit": 10000
     },
     "inputWidgets": {},
     "nuid": "f63082ad-cdd2-49b3-b34a-cac465790f32",
     "showTitle": false,
     "tableResultSettingsMap": {},
     "title": ""
    }
   },
   "outputs": [],
   "source": []
  }
 ],
 "metadata": {
  "application/vnd.databricks.v1+notebook": {
   "computePreferences": null,
   "dashboards": [],
   "environmentMetadata": {
    "base_environment": "",
    "client": "1"
   },
   "language": "python",
   "notebookMetadata": {
    "mostRecentlyExecutedCommandWithImplicitDF": {
     "commandId": 2808411002191312,
     "dataframes": [
      "_sqldf"
     ]
    },
    "pythonIndentUnit": 4
   },
   "notebookName": "Homework 1 - Airlines Data",
   "widgets": {}
  }
 },
 "nbformat": 4,
 "nbformat_minor": 0
}
